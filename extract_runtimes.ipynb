{
 "cells": [
  {
   "cell_type": "markdown",
   "metadata": {},
   "source": [
    "Extract runtimes from a .out file. "
   ]
  },
  {
   "cell_type": "code",
   "execution_count": 7,
   "metadata": {},
   "outputs": [
    {
     "name": "stdout",
     "output_type": "stream",
     "text": [
      "Fitting Times (seconds): [3, 2, 3, 806, 33, 105, 0, 855, 408, 127, 126, 267, 4, 74, 5, 21, 1900, 1, 3, 2, 3, 778, 32, 97, 0, 813, 384, 108, 105, 231, 3, 68, 6, 19, 2098, 1, 3, 2, 3, 783, 29, 97, 0, 793, 381, 104, 98, 224, 3, 67, 5, 19, 1824, 1, 3, 2, 3, 776, 29, 91, 0, 782, 384, 100, 95, 214, 3, 63, 5, 18, 1888, 1, 3, 2, 3, 753, 28, 96, 0, 759, 377, 110, 126, 250, 4, 78, 6, 22, 2160, 2, 3, 2, 3, 905, 33, 117, 0, 908, 431, 115, 116, 249, 4, 77, 6, 21, 2216, 2, 3, 2, 3, 900, 38, 116, 0, 898, 478, 115, 115, 249, 4, 77, 6, 22, 2125, 2, 3, 2, 3, 890, 34, 110, 0, 873, 407, 116, 116, 253, 4, 76, 6, 22, 2122, 2, 3, 2, 3, 861, 33, 111, 0, 930, 414, 115, 113, 306, 4, 76, 6, 22, 2129, 1, 3, 2, 3, 883, 32, 108, 0, 891, 403, 110, 108, 242, 4, 75, 6, 21, 2033, 1]\n",
      "Fitting Mean (seconds): 270.09444444444443\n",
      "Fitting Std Dev (seconds): 506.87589191178307\n",
      "Inference Times (seconds): [0, 0, 0, 0, 0, 0, 0, 0, 0, 0, 0, 0, 0, 0, 0, 0, 5, 0, 0, 0, 0, 0, 0, 0, 0, 0, 0, 0, 0, 0, 0, 0, 0, 0, 5, 0, 0, 0, 0, 0, 0, 0, 0, 0, 0, 0, 0, 0, 0, 0, 0, 0, 5, 0, 0, 0, 0, 0, 0, 0, 0, 0, 0, 0, 0, 0, 0, 0, 0, 0, 5, 0, 0, 0, 0, 0, 0, 0, 0, 0, 0, 0, 0, 0, 0, 0, 0, 0, 6, 0, 0, 0, 0, 0, 0, 0, 0, 0, 0, 0, 0, 0, 0, 0, 0, 0, 6, 0, 0, 0, 0, 0, 0, 0, 0, 0, 0, 0, 0, 0, 0, 0, 0, 0, 6, 0, 0, 0, 0, 0, 0, 0, 0, 0, 0, 0, 0, 0, 0, 0, 0, 0, 6, 0, 0, 0, 0, 0, 0, 0, 0, 0, 0, 0, 0, 0, 0, 0, 0, 0, 6, 0, 0, 0, 0, 0, 0, 0, 0, 0, 0, 0, 0, 0, 0, 0, 0, 0, 6, 0]\n",
      "Inference Mean (seconds): 0.3111111111111111\n",
      "Inference Std Dev (seconds): 1.2915232394688623\n"
     ]
    }
   ],
   "source": [
    "import re\n",
    "import statistics\n",
    "\n",
    "# Lists to store the extracted times.\n",
    "fitting_runtimes = []\n",
    "inference_times = []\n",
    "\n",
    "# Open and read the entire file with appropriate encoding.\n",
    "with open(\"full_run.out\", \"r\", encoding=\"utf-8\", errors=\"replace\") as f:\n",
    "    lines = f.readlines()\n",
    "\n",
    "# Extract the final fitting runtime.\n",
    "# We look for lines starting with \"Fitting:\" immediately followed by \"Fitting succeeded:\".\n",
    "for i, line in enumerate(lines):\n",
    "    if line.startswith(\"Fitting:\"):\n",
    "        if i + 1 < len(lines) and lines[i + 1].startswith(\"Fitting succeeded:\"):\n",
    "            # The regex captures a pattern like \"[13:03,\" and returns \"13:03\"\n",
    "            match = re.search(r'\\[(\\d+:\\d+),', line)\n",
    "            if match:\n",
    "                fitting_runtimes.append(match.group(1))\n",
    "\n",
    "# Extract the inference time.\n",
    "# We look for a line starting with \"Generating NPP-Samples\" that is immediately followed by a line starting with \"Number of simulated arrivals:\".\n",
    "for i, line in enumerate(lines):\n",
    "    if line.startswith(\"Generating NPP-Samples\"):\n",
    "        if i + 1 < len(lines) and lines[i + 1].startswith(\"Number of simulated arrivals:\"):\n",
    "            match = re.search(r'\\[(\\d+:\\d+)<', line)\n",
    "            if match:\n",
    "                inference_times.append(match.group(1))\n",
    "\n",
    "# Function to convert a \"mm:ss\" formatted string to seconds.\n",
    "def time_str_to_seconds(t):\n",
    "    minutes, seconds = t.split(\":\")\n",
    "    return int(minutes) * 60 + int(seconds)\n",
    "\n",
    "# Convert the extracted time strings to seconds.\n",
    "fitting_seconds = [time_str_to_seconds(t) for t in fitting_runtimes]\n",
    "inference_seconds = [time_str_to_seconds(t) for t in inference_times]\n",
    "\n",
    "# Calculate means and standard deviations.\n",
    "if fitting_seconds:\n",
    "    fitting_mean = statistics.mean(fitting_seconds)\n",
    "    fitting_stdev = statistics.stdev(fitting_seconds) if len(fitting_seconds) > 1 else 0.0\n",
    "else:\n",
    "    fitting_mean = fitting_stdev = None\n",
    "\n",
    "if inference_seconds:\n",
    "    inference_mean = statistics.mean(inference_seconds)\n",
    "    inference_stdev = statistics.stdev(inference_seconds) if len(inference_seconds) > 1 else 0.0\n",
    "else:\n",
    "    inference_mean = inference_stdev = None\n",
    "\n",
    "# Print results.\n",
    "print(\"Fitting Times (seconds):\", fitting_seconds)\n",
    "print(\"Fitting Mean (seconds):\", fitting_mean)\n",
    "print(\"Fitting Std Dev (seconds):\", fitting_stdev)\n",
    "\n",
    "print(\"Inference Times (seconds):\", inference_seconds)\n",
    "print(\"Inference Mean (seconds):\", inference_mean)\n",
    "print(\"Inference Std Dev (seconds):\", inference_stdev)\n"
   ]
  },
  {
   "cell_type": "code",
   "execution_count": 8,
   "metadata": {},
   "outputs": [
    {
     "data": {
      "text/plain": [
       "180"
      ]
     },
     "execution_count": 8,
     "metadata": {},
     "output_type": "execute_result"
    }
   ],
   "source": [
    "len(inference_seconds)"
   ]
  },
  {
   "cell_type": "code",
   "execution_count": null,
   "metadata": {},
   "outputs": [],
   "source": []
  }
 ],
 "metadata": {
  "kernelspec": {
   "display_name": "atkde_env",
   "language": "python",
   "name": "python3"
  },
  "language_info": {
   "codemirror_mode": {
    "name": "ipython",
    "version": 3
   },
   "file_extension": ".py",
   "mimetype": "text/x-python",
   "name": "python",
   "nbconvert_exporter": "python",
   "pygments_lexer": "ipython3",
   "version": "3.11.4"
  }
 },
 "nbformat": 4,
 "nbformat_minor": 2
}
